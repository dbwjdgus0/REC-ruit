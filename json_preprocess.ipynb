{
 "cells": [
  {
   "cell_type": "code",
   "execution_count": 9,
   "metadata": {},
   "outputs": [
    {
     "name": "stdout",
     "output_type": "stream",
     "text": [
      "Requirement already satisfied: jsonlines in /Users/hyunn/opt/anaconda3/lib/python3.8/site-packages (2.0.0)\n"
     ]
    }
   ],
   "source": [
    "!pip install jsonlines"
   ]
  },
  {
   "cell_type": "code",
   "execution_count": 2,
   "metadata": {},
   "outputs": [],
   "source": [
    "import jsonlines\n",
    "import json\n",
    "import os\n",
    "from glob import glob\n",
    "import pandas as pd"
   ]
  },
  {
   "cell_type": "code",
   "execution_count": 55,
   "metadata": {},
   "outputs": [],
   "source": [
    "with open('data/Training/train_news.json', 'r') as f:\n",
    "    news = json.load(f)\n",
    "origin_sentences = []\n",
    "ext = []\n",
    "for doc in news['documents']:\n",
    "    origin_sentences.append(\" \".join([ line[0]['sentence'].replace('.','')+'.' for line in doc['text'] if len(line) > 0]  ))\n",
    "    ext.append(doc['extractive'])"
   ]
  },
  {
   "cell_type": "code",
   "execution_count": 4,
   "metadata": {},
   "outputs": [
    {
     "data": {
      "text/plain": [
       "[[{'index': 0,\n",
       "   'sentence': 'ha당 조사료 400만원…작물별 차등 지원',\n",
       "   'highlight_indices': ''}],\n",
       " [{'index': 1, 'sentence': '이성훈 sinawi@hanmail.net', 'highlight_indices': ''}],\n",
       " [{'index': 2,\n",
       "   'sentence': '전라남도가 쌀 과잉문제를 근본적으로 해결하기 위해 올해부터 시행하는 쌀 생산조정제를 적극 추진키로 했다.',\n",
       "   'highlight_indices': ''}]]"
      ]
     },
     "execution_count": 4,
     "metadata": {},
     "output_type": "execute_result"
    }
   ],
   "source": [
    "news['documents'][0]['text'][:3]"
   ]
  },
  {
   "cell_type": "code",
   "execution_count": 6,
   "metadata": {},
   "outputs": [
    {
     "data": {
      "text/plain": [
       "'與 김영춘·유영민·류영진 등 중량감 키운 친문계 당 복귀할듯. - 한국당 당직에 PK친박 중용해. 내년 21대 총선의 최대 승부처인 부산 울산 경남(PK)에서 친문(친문재인)과 친박(친박근혜)의 세 번째 대결이 벌어질 가능성이 커지고 있다. 이르면 이번 주 예정된 개각 때 김영춘 해양수산부 장관은 부산 부산진갑 민주당 의원으로 복귀가 유력한 것으로 3일 알려졌다. 자유한국당 황 대표는 내년 총선 전략과 당 운영 향배를 가늠할 수 있는 첫 인선을 이번 주 내놓는다. 하지만 친박 전면 배치에 대한 당 내부의 비판도 커지고 있어 변동 가능성도 있다. 박태우 기자 yain@kookjecokr .'"
      ]
     },
     "execution_count": 6,
     "metadata": {},
     "output_type": "execute_result"
    }
   ],
   "source": [
    "origin_sentences[15000]"
   ]
  },
  {
   "cell_type": "code",
   "execution_count": 128,
   "metadata": {},
   "outputs": [],
   "source": [
    "with open('./news_sentences', 'w') as f:\n",
    "    for line in origin_sentences:\n",
    "        f.write(line+'\\n')"
   ]
  },
  {
   "cell_type": "code",
   "execution_count": 35,
   "metadata": {},
   "outputs": [],
   "source": [
    "file_names = []\n",
    "for each in glob('./morp_out/*'):\n",
    "    file_names.append(each)"
   ]
  },
  {
   "cell_type": "code",
   "execution_count": 36,
   "metadata": {},
   "outputs": [],
   "source": [
    "file_names_2 = []\n",
    "for each in glob('./morp/*'):\n",
    "    file_names_2.append(each)"
   ]
  },
  {
   "cell_type": "code",
   "execution_count": 37,
   "metadata": {},
   "outputs": [],
   "source": [
    "file_names.sort(key=lambda x: int(x[19:]))\n",
    "file_names_2.sort(key=lambda x: int(x[10:]))"
   ]
  },
  {
   "cell_type": "code",
   "execution_count": 38,
   "metadata": {},
   "outputs": [],
   "source": [
    "file_names = file_names+file_names_2"
   ]
  },
  {
   "cell_type": "code",
   "execution_count": 46,
   "metadata": {},
   "outputs": [
    {
     "data": {
      "text/plain": [
       "27228"
      ]
     },
     "execution_count": 46,
     "metadata": {},
     "output_type": "execute_result"
    }
   ],
   "source": [
    "len(file_names)"
   ]
  },
  {
   "cell_type": "code",
   "execution_count": 41,
   "metadata": {},
   "outputs": [],
   "source": [
    "morp = []\n",
    "for name in file_names:\n",
    "    morp.append(open(name, 'r').read())"
   ]
  },
  {
   "cell_type": "code",
   "execution_count": 42,
   "metadata": {},
   "outputs": [],
   "source": [
    "news_df = pd.DataFrame(columns=['morp', 'extractive'])"
   ]
  },
  {
   "cell_type": "code",
   "execution_count": 43,
   "metadata": {},
   "outputs": [],
   "source": [
    "train_ext = ext[:20000] + ext[25000:30000] + ext[35000:43000]"
   ]
  },
  {
   "cell_type": "code",
   "execution_count": 49,
   "metadata": {},
   "outputs": [],
   "source": [
    "news_df['morp'] = morp\n",
    "news_df['extractive'] = train_ext[:27228]"
   ]
  },
  {
   "cell_type": "code",
   "execution_count": 50,
   "metadata": {},
   "outputs": [
    {
     "data": {
      "text/html": [
       "<div>\n",
       "<style scoped>\n",
       "    .dataframe tbody tr th:only-of-type {\n",
       "        vertical-align: middle;\n",
       "    }\n",
       "\n",
       "    .dataframe tbody tr th {\n",
       "        vertical-align: top;\n",
       "    }\n",
       "\n",
       "    .dataframe thead th {\n",
       "        text-align: right;\n",
       "    }\n",
       "</style>\n",
       "<table border=\"1\" class=\"dataframe\">\n",
       "  <thead>\n",
       "    <tr style=\"text-align: right;\">\n",
       "      <th></th>\n",
       "      <th>morp</th>\n",
       "      <th>extractive</th>\n",
       "    </tr>\n",
       "  </thead>\n",
       "  <tbody>\n",
       "    <tr>\n",
       "      <th>0</th>\n",
       "      <td>ha/SL 당/XSN 조/NNG 사료/NNG 400/SN 만/NR 원/NNB …/S...</td>\n",
       "      <td>[2, 3, 10]</td>\n",
       "    </tr>\n",
       "    <tr>\n",
       "      <th>1</th>\n",
       "      <td>8/SN 억/NR 투입/NNG ,/SP 고소/NNG 천사/NNG 벽화/NNG ·/S...</td>\n",
       "      <td>[2, 4, 11]</td>\n",
       "    </tr>\n",
       "    <tr>\n",
       "      <th>2</th>\n",
       "      <td>전남드래곤즈/NNP 해/NNG 맞이/NNG 다짐/NNG …/SE 선수/NNG 영입/...</td>\n",
       "      <td>[3, 5, 7]</td>\n",
       "    </tr>\n",
       "    <tr>\n",
       "      <th>3</th>\n",
       "      <td>11/SN ~/SO 24/SN 일/NNB ,/SP 매실/NNG ·/SP 감/NNG ...</td>\n",
       "      <td>[2, 3, 4]</td>\n",
       "    </tr>\n",
       "    <tr>\n",
       "      <th>4</th>\n",
       "      <td>홍콩/NNP 크루즈선사/NNP ‘/SS 아쿠아리우스/NNP ’/SS 4/SN ,/S...</td>\n",
       "      <td>[3, 7, 4]</td>\n",
       "    </tr>\n",
       "    <tr>\n",
       "      <th>...</th>\n",
       "      <td>...</td>\n",
       "      <td>...</td>\n",
       "    </tr>\n",
       "    <tr>\n",
       "      <th>27223</th>\n",
       "      <td>홍하/NNP 은/JX 오늘/NNG 부터/JX 본격/NNG 선거/NNG 운동/NNG ...</td>\n",
       "      <td>[0, 1, 2]</td>\n",
       "    </tr>\n",
       "    <tr>\n",
       "      <th>27224</th>\n",
       "      <td>홍하/NNP 은/JX 2018/SN 년/NNB 출생/NNG ·/SP 사망/NNG 통...</td>\n",
       "      <td>[7, 3, 6]</td>\n",
       "    </tr>\n",
       "    <tr>\n",
       "      <th>27225</th>\n",
       "      <td>이창준/NNP 바깥/NNG 경쟁/NNG 력/XSN ·/SP 중도/NNG 보수/NNG...</td>\n",
       "      <td>[3, 5, 6]</td>\n",
       "    </tr>\n",
       "    <tr>\n",
       "      <th>27226</th>\n",
       "      <td>오늘/NNG 이/JKS 3/SN ·/SP 1/SN 운동/NNG 및/MAJ 상해/NN...</td>\n",
       "      <td>[0, 3, 1]</td>\n",
       "    </tr>\n",
       "    <tr>\n",
       "      <th>27227</th>\n",
       "      <td>남승현/NNP 계명문화대/NNP 박승호/NNP 총장/NNG 취임/NNG 계명/NNG...</td>\n",
       "      <td>[1, 2, 3]</td>\n",
       "    </tr>\n",
       "  </tbody>\n",
       "</table>\n",
       "<p>27228 rows × 2 columns</p>\n",
       "</div>"
      ],
      "text/plain": [
       "                                                    morp  extractive\n",
       "0      ha/SL 당/XSN 조/NNG 사료/NNG 400/SN 만/NR 원/NNB …/S...  [2, 3, 10]\n",
       "1      8/SN 억/NR 투입/NNG ,/SP 고소/NNG 천사/NNG 벽화/NNG ·/S...  [2, 4, 11]\n",
       "2      전남드래곤즈/NNP 해/NNG 맞이/NNG 다짐/NNG …/SE 선수/NNG 영입/...   [3, 5, 7]\n",
       "3      11/SN ~/SO 24/SN 일/NNB ,/SP 매실/NNG ·/SP 감/NNG ...   [2, 3, 4]\n",
       "4      홍콩/NNP 크루즈선사/NNP ‘/SS 아쿠아리우스/NNP ’/SS 4/SN ,/S...   [3, 7, 4]\n",
       "...                                                  ...         ...\n",
       "27223  홍하/NNP 은/JX 오늘/NNG 부터/JX 본격/NNG 선거/NNG 운동/NNG ...   [0, 1, 2]\n",
       "27224  홍하/NNP 은/JX 2018/SN 년/NNB 출생/NNG ·/SP 사망/NNG 통...   [7, 3, 6]\n",
       "27225  이창준/NNP 바깥/NNG 경쟁/NNG 력/XSN ·/SP 중도/NNG 보수/NNG...   [3, 5, 6]\n",
       "27226  오늘/NNG 이/JKS 3/SN ·/SP 1/SN 운동/NNG 및/MAJ 상해/NN...   [0, 3, 1]\n",
       "27227  남승현/NNP 계명문화대/NNP 박승호/NNP 총장/NNG 취임/NNG 계명/NNG...   [1, 2, 3]\n",
       "\n",
       "[27228 rows x 2 columns]"
      ]
     },
     "execution_count": 50,
     "metadata": {},
     "output_type": "execute_result"
    }
   ],
   "source": [
    "news_df"
   ]
  },
  {
   "cell_type": "code",
   "execution_count": 20,
   "metadata": {},
   "outputs": [],
   "source": [
    "news_df.to_csv('news_morp_ext.csv')"
   ]
  },
  {
   "cell_type": "code",
   "execution_count": 23,
   "metadata": {},
   "outputs": [],
   "source": [
    "cnt = 0\n",
    "for each in morp:\n",
    "    for t in each.split(' ./SF '):\n",
    "        if t == \"\":\n",
    "            cnt +=1"
   ]
  },
  {
   "cell_type": "code",
   "execution_count": 24,
   "metadata": {},
   "outputs": [
    {
     "data": {
      "text/plain": [
       "10000"
      ]
     },
     "execution_count": 24,
     "metadata": {},
     "output_type": "execute_result"
    }
   ],
   "source": [
    "cnt"
   ]
  },
  {
   "cell_type": "code",
   "execution_count": 25,
   "metadata": {},
   "outputs": [
    {
     "data": {
      "text/plain": [
       "'ha/SL 당/XSN 조/NNG 사료/NNG 400/SN 만/NR 원/NNB …/SE 작물/NNG 별/XSN 차등/NNG 지원/NNG'"
      ]
     },
     "execution_count": 25,
     "metadata": {},
     "output_type": "execute_result"
    }
   ],
   "source": [
    "news_df.iloc[0][0].split(' ./SF ')[0]"
   ]
  },
  {
   "cell_type": "code",
   "execution_count": 26,
   "metadata": {},
   "outputs": [],
   "source": [
    "import ast"
   ]
  },
  {
   "cell_type": "code",
   "execution_count": 40,
   "metadata": {},
   "outputs": [
    {
     "data": {
      "text/plain": [
       "[1, 2, 3]"
      ]
     },
     "execution_count": 40,
     "metadata": {},
     "output_type": "execute_result"
    }
   ],
   "source": [
    "ast.literal_eval('[1, 2, 3]')"
   ]
  },
  {
   "cell_type": "code",
   "execution_count": 31,
   "metadata": {},
   "outputs": [
    {
     "data": {
      "text/plain": [
       "list"
      ]
     },
     "execution_count": 31,
     "metadata": {},
     "output_type": "execute_result"
    }
   ],
   "source": [
    "type(news_df.iloc[0][1])"
   ]
  },
  {
   "cell_type": "code",
   "execution_count": 35,
   "metadata": {},
   "outputs": [],
   "source": [
    "df = pd.read_csv('./news_morp_ext.csv', index_col =0)"
   ]
  },
  {
   "cell_type": "code",
   "execution_count": 44,
   "metadata": {},
   "outputs": [
    {
     "data": {
      "text/plain": [
       "['ha/SL',\n",
       " '당/XSN',\n",
       " '조/NNG',\n",
       " '사료/NNG',\n",
       " '400/SN',\n",
       " '만/NR',\n",
       " '원/NNB',\n",
       " '…/SE',\n",
       " '작물/NNG',\n",
       " '별/XSN',\n",
       " '차등/NNG',\n",
       " '지원/NNG']"
      ]
     },
     "execution_count": 44,
     "metadata": {},
     "output_type": "execute_result"
    }
   ],
   "source": [
    "[ i.split(\" \") for i in df.iloc[0][0].split(' ./SF ')[:-1]][0]"
   ]
  },
  {
   "cell_type": "code",
   "execution_count": 53,
   "metadata": {},
   "outputs": [],
   "source": [
    "with open('data/Validation/valid_news.json', 'r') as f:\n",
    "    news = json.load(f)\n",
    "val_sentences = []\n",
    "val_ext = []\n",
    "for doc in news['documents']:\n",
    "    val_sentences.append(\" \".join([ line[0]['sentence'].replace('.','')+'.' for line in doc['text'] if len(line) > 0]  ))\n",
    "    val_ext.append(doc['extractive'])"
   ]
  },
  {
   "cell_type": "code",
   "execution_count": 57,
   "metadata": {},
   "outputs": [
    {
     "data": {
      "text/plain": [
       "7008"
      ]
     },
     "execution_count": 57,
     "metadata": {},
     "output_type": "execute_result"
    }
   ],
   "source": []
  },
  {
   "cell_type": "code",
   "execution_count": null,
   "metadata": {},
   "outputs": [],
   "source": []
  }
 ],
 "metadata": {
  "interpreter": {
   "hash": "6c817662940d8689b763a83cc5e294c4f32001062a1563fe8f0cedabde224745"
  },
  "kernelspec": {
   "display_name": "Python 3.8.8 64-bit ('base': conda)",
   "language": "python",
   "name": "python3"
  },
  "language_info": {
   "codemirror_mode": {
    "name": "ipython",
    "version": 3
   },
   "file_extension": ".py",
   "mimetype": "text/x-python",
   "name": "python",
   "nbconvert_exporter": "python",
   "pygments_lexer": "ipython3",
   "version": "3.8.8"
  },
  "orig_nbformat": 4
 },
 "nbformat": 4,
 "nbformat_minor": 2
}
