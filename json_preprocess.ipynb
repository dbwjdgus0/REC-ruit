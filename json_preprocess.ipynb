{
 "cells": [
  {
   "cell_type": "code",
   "execution_count": 9,
   "metadata": {},
   "outputs": [
    {
     "name": "stdout",
     "output_type": "stream",
     "text": [
      "Requirement already satisfied: jsonlines in /Users/hyunn/opt/anaconda3/lib/python3.8/site-packages (2.0.0)\n"
     ]
    }
   ],
   "source": [
    "!pip install jsonlines"
   ]
  },
  {
   "cell_type": "code",
   "execution_count": 2,
   "metadata": {},
   "outputs": [],
   "source": [
    "import jsonlines\n",
    "import json\n",
    "import os\n",
    "from glob import glob\n",
    "import pandas as pd"
   ]
  },
  {
   "cell_type": "code",
   "execution_count": 55,
   "metadata": {},
   "outputs": [],
   "source": [
    "with open('data/Training/train_news.json', 'r') as f:\n",
    "    news = json.load(f)\n",
    "origin_sentences = []\n",
    "ext = []\n",
    "for doc in news['documents']:\n",
    "    origin_sentences.append(\" \".join([ line[0]['sentence'].replace('.','')+'.' for line in doc['text'] if len(line) > 0]  ))\n",
    "    ext.append(doc['extractive'])"
   ]
  },
  {
   "cell_type": "code",
   "execution_count": 4,
   "metadata": {},
   "outputs": [
    {
     "data": {
      "text/plain": [
       "[[{'index': 0,\n",
       "   'sentence': 'ha당 조사료 400만원…작물별 차등 지원',\n",
       "   'highlight_indices': ''}],\n",
       " [{'index': 1, 'sentence': '이성훈 sinawi@hanmail.net', 'highlight_indices': ''}],\n",
       " [{'index': 2,\n",
       "   'sentence': '전라남도가 쌀 과잉문제를 근본적으로 해결하기 위해 올해부터 시행하는 쌀 생산조정제를 적극 추진키로 했다.',\n",
       "   'highlight_indices': ''}]]"
      ]
     },
     "execution_count": 4,
     "metadata": {},
     "output_type": "execute_result"
    }
   ],
   "source": [
    "news['documents'][0]['text'][:3]"
   ]
  },
  {
   "cell_type": "code",
   "execution_count": 6,
   "metadata": {},
   "outputs": [
    {
     "data": {
      "text/plain": [
       "'與 김영춘·유영민·류영진 등 중량감 키운 친문계 당 복귀할듯. - 한국당 당직에 PK친박 중용해. 내년 21대 총선의 최대 승부처인 부산 울산 경남(PK)에서 친문(친문재인)과 친박(친박근혜)의 세 번째 대결이 벌어질 가능성이 커지고 있다. 이르면 이번 주 예정된 개각 때 김영춘 해양수산부 장관은 부산 부산진갑 민주당 의원으로 복귀가 유력한 것으로 3일 알려졌다. 자유한국당 황 대표는 내년 총선 전략과 당 운영 향배를 가늠할 수 있는 첫 인선을 이번 주 내놓는다. 하지만 친박 전면 배치에 대한 당 내부의 비판도 커지고 있어 변동 가능성도 있다. 박태우 기자 yain@kookjecokr .'"
      ]
     },
     "execution_count": 6,
     "metadata": {},
     "output_type": "execute_result"
    }
   ],
   "source": [
    "origin_sentences[15000]"
   ]
  },
  {
   "cell_type": "code",
   "execution_count": 128,
   "metadata": {},
   "outputs": [],
   "source": [
    "with open('./news_sentences', 'w') as f:\n",
    "    for line in origin_sentences:\n",
    "        f.write(line+'\\n')"
   ]
  },
  {
   "cell_type": "code",
   "execution_count": 88,
   "metadata": {},
   "outputs": [],
   "source": [
    "file_names = []\n",
    "for each in glob('./morp_out/morp_*'):\n",
    "    file_names.append(each)"
   ]
  },
  {
   "cell_type": "code",
   "execution_count": 89,
   "metadata": {},
   "outputs": [],
   "source": [
    "file_names_2 = []\n",
    "for each in glob('./morp/out*'):\n",
    "    file_names_2.append(each)"
   ]
  },
  {
   "cell_type": "code",
   "execution_count": 90,
   "metadata": {},
   "outputs": [],
   "source": [
    "file_names.sort(key=lambda x: int(x[19:]))\n",
    "file_names_2.sort(key=lambda x: int(x[10:]))"
   ]
  },
  {
   "cell_type": "code",
   "execution_count": 91,
   "metadata": {},
   "outputs": [],
   "source": [
    "file_names = file_names+file_names_2"
   ]
  },
  {
   "cell_type": "code",
   "execution_count": 92,
   "metadata": {},
   "outputs": [
    {
     "name": "stdout",
     "output_type": "stream",
     "text": [
      "['./morp_out/morp_out0', './morp_out/morp_out1', './morp_out/morp_out2', './morp_out/morp_out3', './morp_out/morp_out4', './morp_out/morp_out5', './morp_out/morp_out6', './morp_out/morp_out7', './morp_out/morp_out8', './morp_out/morp_out9']\n",
      "['./morp/out42990', './morp/out42991', './morp/out42992', './morp/out42993', './morp/out42994', './morp/out42995', './morp/out42996', './morp/out42997', './morp/out42998', './morp/out42999']\n"
     ]
    }
   ],
   "source": [
    "print(file_names[:10])\n",
    "print(file_names[-10:])\n"
   ]
  },
  {
   "cell_type": "code",
   "execution_count": 93,
   "metadata": {},
   "outputs": [],
   "source": [
    "morp = []\n",
    "for name in file_names:\n",
    "    morp.append(open(name, 'r').read())"
   ]
  },
  {
   "cell_type": "code",
   "execution_count": 94,
   "metadata": {},
   "outputs": [],
   "source": [
    "news_df = pd.DataFrame(columns=['morp', 'extractive'])"
   ]
  },
  {
   "cell_type": "code",
   "execution_count": 95,
   "metadata": {},
   "outputs": [],
   "source": [
    "news_df['morp'] = morp\n",
    "news_df['extractive'] = ext[:43000]"
   ]
  },
  {
   "cell_type": "code",
   "execution_count": 96,
   "metadata": {},
   "outputs": [
    {
     "data": {
      "text/html": [
       "<div>\n",
       "<style scoped>\n",
       "    .dataframe tbody tr th:only-of-type {\n",
       "        vertical-align: middle;\n",
       "    }\n",
       "\n",
       "    .dataframe tbody tr th {\n",
       "        vertical-align: top;\n",
       "    }\n",
       "\n",
       "    .dataframe thead th {\n",
       "        text-align: right;\n",
       "    }\n",
       "</style>\n",
       "<table border=\"1\" class=\"dataframe\">\n",
       "  <thead>\n",
       "    <tr style=\"text-align: right;\">\n",
       "      <th></th>\n",
       "      <th>morp</th>\n",
       "      <th>extractive</th>\n",
       "    </tr>\n",
       "  </thead>\n",
       "  <tbody>\n",
       "    <tr>\n",
       "      <th>0</th>\n",
       "      <td>ha/SL 당/XSN 조/NNG 사료/NNG 400/SN 만/NR 원/NNB …/S...</td>\n",
       "      <td>[2, 3, 10]</td>\n",
       "    </tr>\n",
       "    <tr>\n",
       "      <th>1</th>\n",
       "      <td>8/SN 억/NR 투입/NNG ,/SP 고소/NNG 천사/NNG 벽화/NNG ·/S...</td>\n",
       "      <td>[2, 4, 11]</td>\n",
       "    </tr>\n",
       "    <tr>\n",
       "      <th>2</th>\n",
       "      <td>전남드래곤즈/NNP 해/NNG 맞이/NNG 다짐/NNG …/SE 선수/NNG 영입/...</td>\n",
       "      <td>[3, 5, 7]</td>\n",
       "    </tr>\n",
       "    <tr>\n",
       "      <th>3</th>\n",
       "      <td>11/SN ~/SO 24/SN 일/NNB ,/SP 매실/NNG ·/SP 감/NNG ...</td>\n",
       "      <td>[2, 3, 4]</td>\n",
       "    </tr>\n",
       "    <tr>\n",
       "      <th>4</th>\n",
       "      <td>홍콩/NNP 크루즈선사/NNP ‘/SS 아쿠아리우스/NNP ’/SS 4/SN ,/S...</td>\n",
       "      <td>[3, 7, 4]</td>\n",
       "    </tr>\n",
       "    <tr>\n",
       "      <th>...</th>\n",
       "      <td>...</td>\n",
       "      <td>...</td>\n",
       "    </tr>\n",
       "    <tr>\n",
       "      <th>42995</th>\n",
       "      <td>학생/NNG 리포터/NNG ./SF 참가/NNG 자/XSN 들/XSN 이/JKS 안...</td>\n",
       "      <td>[1, 2, 3]</td>\n",
       "    </tr>\n",
       "    <tr>\n",
       "      <th>42996</th>\n",
       "      <td>-/SS 대구공항/NNP LCC/SL 일본/NNP 노선/NNG 예약/NNG 률/XS...</td>\n",
       "      <td>[3, 4, 5]</td>\n",
       "    </tr>\n",
       "    <tr>\n",
       "      <th>42997</th>\n",
       "      <td>대구시/NNP 퇴직/NNG 앞두/VV ㄴ/ETM 공무/NNG 원/XSN 사회/NNG...</td>\n",
       "      <td>[4, 19, 24]</td>\n",
       "    </tr>\n",
       "    <tr>\n",
       "      <th>42998</th>\n",
       "      <td>-/SS 11/SN 전비/NNG ,/SP 다음/NNG 달/NNG 첫째/NR 주/NN...</td>\n",
       "      <td>[7, 11, 14]</td>\n",
       "    </tr>\n",
       "    <tr>\n",
       "      <th>42999</th>\n",
       "      <td>대구시/NNP 27/SN 일/NNB 민관/NNG 합동/NNG 물/NNG 가/NNG ...</td>\n",
       "      <td>[3, 4, 5]</td>\n",
       "    </tr>\n",
       "  </tbody>\n",
       "</table>\n",
       "<p>43000 rows × 2 columns</p>\n",
       "</div>"
      ],
      "text/plain": [
       "                                                    morp   extractive\n",
       "0      ha/SL 당/XSN 조/NNG 사료/NNG 400/SN 만/NR 원/NNB …/S...   [2, 3, 10]\n",
       "1      8/SN 억/NR 투입/NNG ,/SP 고소/NNG 천사/NNG 벽화/NNG ·/S...   [2, 4, 11]\n",
       "2      전남드래곤즈/NNP 해/NNG 맞이/NNG 다짐/NNG …/SE 선수/NNG 영입/...    [3, 5, 7]\n",
       "3      11/SN ~/SO 24/SN 일/NNB ,/SP 매실/NNG ·/SP 감/NNG ...    [2, 3, 4]\n",
       "4      홍콩/NNP 크루즈선사/NNP ‘/SS 아쿠아리우스/NNP ’/SS 4/SN ,/S...    [3, 7, 4]\n",
       "...                                                  ...          ...\n",
       "42995  학생/NNG 리포터/NNG ./SF 참가/NNG 자/XSN 들/XSN 이/JKS 안...    [1, 2, 3]\n",
       "42996  -/SS 대구공항/NNP LCC/SL 일본/NNP 노선/NNG 예약/NNG 률/XS...    [3, 4, 5]\n",
       "42997  대구시/NNP 퇴직/NNG 앞두/VV ㄴ/ETM 공무/NNG 원/XSN 사회/NNG...  [4, 19, 24]\n",
       "42998  -/SS 11/SN 전비/NNG ,/SP 다음/NNG 달/NNG 첫째/NR 주/NN...  [7, 11, 14]\n",
       "42999  대구시/NNP 27/SN 일/NNB 민관/NNG 합동/NNG 물/NNG 가/NNG ...    [3, 4, 5]\n",
       "\n",
       "[43000 rows x 2 columns]"
      ]
     },
     "execution_count": 96,
     "metadata": {},
     "output_type": "execute_result"
    }
   ],
   "source": [
    "news_df"
   ]
  },
  {
   "cell_type": "code",
   "execution_count": 70,
   "metadata": {},
   "outputs": [],
   "source": [
    "news_df.to_csv('news_morp_ext.csv')"
   ]
  },
  {
   "cell_type": "code",
   "execution_count": 71,
   "metadata": {},
   "outputs": [],
   "source": [
    "cnt = 0\n",
    "for each in morp:\n",
    "    for t in each.split(' ./SF '):\n",
    "        if t == \"\":\n",
    "            cnt +=1\n",
    "print(cnt)\n",
    "print(news_df.iloc[0][0].split(' ./SF ')[0])"
   ]
  },
  {
   "cell_type": "code",
   "execution_count": 53,
   "metadata": {},
   "outputs": [],
   "source": [
    "with open('data/Validation/valid_news.json', 'r') as f:\n",
    "    news = json.load(f)\n",
    "val_sentences = []\n",
    "val_ext = []\n",
    "for doc in news['documents']:\n",
    "    val_sentences.append(\" \".join([ line[0]['sentence'].replace('.','')+'.' for line in doc['text'] if len(line) > 0]  ))\n",
    "    val_ext.append(doc['extractive'])"
   ]
  },
  {
   "cell_type": "code",
   "execution_count": 57,
   "metadata": {},
   "outputs": [
    {
     "data": {
      "text/plain": [
       "7008"
      ]
     },
     "execution_count": 57,
     "metadata": {},
     "output_type": "execute_result"
    }
   ],
   "source": []
  },
  {
   "cell_type": "code",
   "execution_count": null,
   "metadata": {},
   "outputs": [],
   "source": []
  }
 ],
 "metadata": {
  "interpreter": {
   "hash": "6c817662940d8689b763a83cc5e294c4f32001062a1563fe8f0cedabde224745"
  },
  "kernelspec": {
   "display_name": "Python 3.8.8 64-bit ('base': conda)",
   "language": "python",
   "name": "python3"
  },
  "language_info": {
   "codemirror_mode": {
    "name": "ipython",
    "version": 3
   },
   "file_extension": ".py",
   "mimetype": "text/x-python",
   "name": "python",
   "nbconvert_exporter": "python",
   "pygments_lexer": "ipython3",
   "version": "3.8.8"
  },
  "orig_nbformat": 4
 },
 "nbformat": 4,
 "nbformat_minor": 2
}
