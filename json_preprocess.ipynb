{
 "cells": [
  {
   "cell_type": "code",
   "execution_count": 9,
   "metadata": {},
   "outputs": [
    {
     "name": "stdout",
     "output_type": "stream",
     "text": [
      "Requirement already satisfied: jsonlines in /Users/hyunn/opt/anaconda3/lib/python3.8/site-packages (2.0.0)\n"
     ]
    }
   ],
   "source": [
    "!pip install jsonlines"
   ]
  },
  {
   "cell_type": "code",
   "execution_count": 2,
   "metadata": {},
   "outputs": [],
   "source": [
    "import jsonlines\n",
    "import json\n",
    "import os\n",
    "from glob import glob\n",
    "import pandas as pd"
   ]
  },
  {
   "cell_type": "code",
   "execution_count": 15,
   "metadata": {},
   "outputs": [],
   "source": [
    "with open('data/Training/train_news.json', 'r') as f:\n",
    "    news = json.load(f)"
   ]
  },
  {
   "cell_type": "code",
   "execution_count": 16,
   "metadata": {},
   "outputs": [
    {
     "data": {
      "text/plain": [
       "[[{'index': 0,\n",
       "   'sentence': 'ha당 조사료 400만원…작물별 차등 지원',\n",
       "   'highlight_indices': ''}],\n",
       " [{'index': 1, 'sentence': '이성훈 sinawi@hanmail.net', 'highlight_indices': ''}],\n",
       " [{'index': 2,\n",
       "   'sentence': '전라남도가 쌀 과잉문제를 근본적으로 해결하기 위해 올해부터 시행하는 쌀 생산조정제를 적극 추진키로 했다.',\n",
       "   'highlight_indices': ''}],\n",
       " [{'index': 3,\n",
       "   'sentence': '쌀 생산조정제는 벼를 심었던 논에 벼 대신 사료작물이나 콩 등 다른 작물을 심으면 벼와의 일정 소득차를 보전해주는 제도다.',\n",
       "   'highlight_indices': '35,37'}],\n",
       " [{'index': 4,\n",
       "   'sentence': '올해 전남의 논 다른 작물 재배 계획면적은 전국 5만ha의 약 21%인 1만 698ha로, 세부시행지침을 확정, 시군에 통보했다.',\n",
       "   'highlight_indices': '9,11;33,34'},\n",
       "  {'index': 5,\n",
       "   'sentence': '지원사업 대상은 2017년산 쌀 변동직불금을 받은 농지에 10a(300평) 이상 벼 이외 다른 작물을 재배한 농업인이다.',\n",
       "   'highlight_indices': '50,52'}],\n",
       " [{'index': 6,\n",
       "   'sentence': '지원 대상 작물은 1년생을 포함한 다년생의 모든 작물이 해당되나 재배 면적 확대 시 수급과잉이 우려되는 고추, 무, 배추, 인삼, 대파 등 수급 불안 품목은 제외된다.',\n",
       "   'highlight_indices': '24,26'}],\n",
       " [{'index': 7,\n",
       "   'sentence': '농지의 경우도 이미 다른 작물 재배 의무가 부여된 간척지, 정부매입비축농지, 농진청 시범사업, 경관보전 직불금 수령 농지 등은 제외될 예정이다.',\n",
       "   'highlight_indices': '8,10;11,13'}],\n",
       " [{'index': 8,\n",
       "   'sentence': 'ha(3000평)당 지원 단가는 평균 340만원으로 사료작물 400만원, 일반작물은 340만원, 콩·팥 등 두류작물은 280만원 등이다.',\n",
       "   'highlight_indices': ''},\n",
       "  {'index': 9,\n",
       "   'sentence': '벼와 소득차와 영농 편이성을 감안해 작물별로 차등 지원된다.',\n",
       "   'highlight_indices': ''}],\n",
       " [{'index': 10,\n",
       "   'sentence': '논에 다른 작물 재배를 바라는 농가는 오는 22일부터 2월 28일까지 농지 소재지 읍면동사무소에 신청해야 한다.',\n",
       "   'highlight_indices': '3,5'}],\n",
       " [{'index': 11,\n",
       "   'sentence': '전남도는 도와 시군에 관련 기관과 농가 등이 참여하는‘논 타작물 지원사업 추진협의회’를 구성, 지역 특성에 맞는 작목 선정 및 사업 심의 등을 본격 추진할 방침이다.',\n",
       "   'highlight_indices': '32,33;69,70'}],\n",
       " [{'index': 12,\n",
       "   'sentence': '최향철 전라남도 친환경농업과장은 “최근 쌀값이 다소 상승추세에 있으나 매년 공급과잉에 따른 가격 하락으로 쌀농가에 어려움이 있었다”며“쌀 공급과잉을 구조적으로 해결하도록 논 타작물 재배 지원사업에 많이 참여해주길 바란다”고 말했다.',\n",
       "   'highlight_indices': '26,28;39,41;97,98;110,112'}]]"
      ]
     },
     "execution_count": 16,
     "metadata": {},
     "output_type": "execute_result"
    }
   ],
   "source": [
    "news['documents'][0]['text']"
   ]
  },
  {
   "cell_type": "code",
   "execution_count": 17,
   "metadata": {},
   "outputs": [],
   "source": [
    "origin_sentences = []\n",
    "ext = []\n",
    "for doc in news['documents']:\n",
    "    origin_sentences.append(\" \".join([ line[0]['sentence'].replace('.','')+'.' for line in doc['text'] if len(line) > 0]  ))\n",
    "    ext.append(doc['extractive'])\n"
   ]
  },
  {
   "cell_type": "code",
   "execution_count": 138,
   "metadata": {},
   "outputs": [
    {
     "data": {
      "text/plain": [
       "'…'"
      ]
     },
     "execution_count": 138,
     "metadata": {},
     "output_type": "execute_result"
    }
   ],
   "source": [
    "origin_sentences[2][13]"
   ]
  },
  {
   "cell_type": "code",
   "execution_count": 135,
   "metadata": {},
   "outputs": [
    {
     "data": {
      "text/plain": [
       "'전남드래곤즈 해맞이 다짐…선수 영입 활발. 이성훈 sinawi@hanmailnet. 전남드래곤즈(사장 신승재)는 지난 4일 구봉산 해맞이 행사를 통해 새해 각오를 다졌다. 신승재 사장은“유상철 감독을 비롯한 코칭스텝, 선수단 구성이 마무리 된 만큼 구성원 모두가 하나되어 K리그 클래식 5위 이내 진입, FA컵 우승 등 ACL 진출권 획득을 목표로 최선을 다하자”고 선수들에게 신년 인사말을 전했다. 유상철 감독은“구봉산의 정기를 받아 2018년을 전남드래곤즈의 해로 만들겠다”며 각오를 다졌다. 한편 전남은 선수들도 추가 영입했다. 공격력 강화를 위해 페체신 대체자로 중국 리그에서 활약한 하태균도 영입했다. 또한 2017년에는 바오딩으로 이적해 팀 내 최다골인 14골을 기록할 정도로 득점력이 뛰어난 선수다.'"
      ]
     },
     "execution_count": 135,
     "metadata": {},
     "output_type": "execute_result"
    }
   ],
   "source": [
    "origin_sentences[2]"
   ]
  },
  {
   "cell_type": "code",
   "execution_count": 122,
   "metadata": {},
   "outputs": [
    {
     "data": {
      "text/plain": [
       "[1, 6, 9]"
      ]
     },
     "execution_count": 122,
     "metadata": {},
     "output_type": "execute_result"
    }
   ],
   "source": [
    "ext[14]"
   ]
  },
  {
   "cell_type": "code",
   "execution_count": 128,
   "metadata": {},
   "outputs": [],
   "source": [
    "with open('./news_sentences', 'w') as f:\n",
    "    for line in origin_sentences:\n",
    "        f.write(line+'\\n')"
   ]
  },
  {
   "cell_type": "code",
   "execution_count": 129,
   "metadata": {},
   "outputs": [],
   "source": [
    "lines = []\n",
    "with open('./news_sentences', 'r') as f:\n",
    "    for line in f:\n",
    "        lines.append(line.strip())"
   ]
  },
  {
   "cell_type": "code",
   "execution_count": 130,
   "metadata": {},
   "outputs": [
    {
     "data": {
      "text/plain": [
       "271093"
      ]
     },
     "execution_count": 130,
     "metadata": {},
     "output_type": "execute_result"
    }
   ],
   "source": [
    "len(lines)"
   ]
  },
  {
   "cell_type": "code",
   "execution_count": 3,
   "metadata": {},
   "outputs": [],
   "source": [
    "file_names = []\n",
    "for each in glob('./morp_out/morp*'):\n",
    "    file_names.append(each)"
   ]
  },
  {
   "cell_type": "code",
   "execution_count": 9,
   "metadata": {},
   "outputs": [
    {
     "data": {
      "text/plain": [
       "'3185'"
      ]
     },
     "execution_count": 9,
     "metadata": {},
     "output_type": "execute_result"
    }
   ],
   "source": [
    "file_names[123][19:]"
   ]
  },
  {
   "cell_type": "code",
   "execution_count": 10,
   "metadata": {},
   "outputs": [],
   "source": [
    "file_names.sort(key=lambda x: int(x[19:]))"
   ]
  },
  {
   "cell_type": "code",
   "execution_count": 12,
   "metadata": {},
   "outputs": [],
   "source": [
    "morp = []\n",
    "for name in file_names:\n",
    "    morp.append(open(name, 'r').read())"
   ]
  },
  {
   "cell_type": "code",
   "execution_count": 13,
   "metadata": {},
   "outputs": [],
   "source": [
    "news_df = pd.DataFrame(columns=['morp', 'extractive'])"
   ]
  },
  {
   "cell_type": "code",
   "execution_count": 18,
   "metadata": {},
   "outputs": [],
   "source": [
    "news_df['morp'] = morp\n",
    "news_df['extractive'] = ext[:10000]"
   ]
  },
  {
   "cell_type": "code",
   "execution_count": 19,
   "metadata": {},
   "outputs": [
    {
     "data": {
      "text/html": [
       "<div>\n",
       "<style scoped>\n",
       "    .dataframe tbody tr th:only-of-type {\n",
       "        vertical-align: middle;\n",
       "    }\n",
       "\n",
       "    .dataframe tbody tr th {\n",
       "        vertical-align: top;\n",
       "    }\n",
       "\n",
       "    .dataframe thead th {\n",
       "        text-align: right;\n",
       "    }\n",
       "</style>\n",
       "<table border=\"1\" class=\"dataframe\">\n",
       "  <thead>\n",
       "    <tr style=\"text-align: right;\">\n",
       "      <th></th>\n",
       "      <th>morp</th>\n",
       "      <th>extractive</th>\n",
       "    </tr>\n",
       "  </thead>\n",
       "  <tbody>\n",
       "    <tr>\n",
       "      <th>0</th>\n",
       "      <td>ha/SL 당/XSN 조/NNG 사료/NNG 400/SN 만/NR 원/NNB …/S...</td>\n",
       "      <td>[2, 3, 10]</td>\n",
       "    </tr>\n",
       "    <tr>\n",
       "      <th>1</th>\n",
       "      <td>8/SN 억/NR 투입/NNG ,/SP 고소/NNG 천사/NNG 벽화/NNG ·/S...</td>\n",
       "      <td>[2, 4, 11]</td>\n",
       "    </tr>\n",
       "    <tr>\n",
       "      <th>2</th>\n",
       "      <td>전남드래곤즈/NNP 해/NNG 맞이/NNG 다짐/NNG …/SE 선수/NNG 영입/...</td>\n",
       "      <td>[3, 5, 7]</td>\n",
       "    </tr>\n",
       "    <tr>\n",
       "      <th>3</th>\n",
       "      <td>11/SN ~/SO 24/SN 일/NNB ,/SP 매실/NNG ·/SP 감/NNG ...</td>\n",
       "      <td>[2, 3, 4]</td>\n",
       "    </tr>\n",
       "    <tr>\n",
       "      <th>4</th>\n",
       "      <td>홍콩/NNP 크루즈선사/NNP ‘/SS 아쿠아리우스/NNP ’/SS 4/SN ,/S...</td>\n",
       "      <td>[3, 7, 4]</td>\n",
       "    </tr>\n",
       "    <tr>\n",
       "      <th>...</th>\n",
       "      <td>...</td>\n",
       "      <td>...</td>\n",
       "    </tr>\n",
       "    <tr>\n",
       "      <th>9995</th>\n",
       "      <td>실/XPN 거래/NNG 공시/NNG 가/XSN 9/SN 억/NR 원/NNB 조정/N...</td>\n",
       "      <td>[1, 2, 10]</td>\n",
       "    </tr>\n",
       "    <tr>\n",
       "      <th>9996</th>\n",
       "      <td>3/SN 분기/NNG 전년비/NNG 559/SN %/SW ↓/SW ./SF 올해/N...</td>\n",
       "      <td>[3, 4, 19]</td>\n",
       "    </tr>\n",
       "    <tr>\n",
       "      <th>9997</th>\n",
       "      <td>매매/NNG 계약/NNG 신고/NNG 뒤/NNG ‘/SS 변경/NNG ·/SP 해지...</td>\n",
       "      <td>[1, 8, 5]</td>\n",
       "    </tr>\n",
       "    <tr>\n",
       "      <th>9998</th>\n",
       "      <td>“/SS 이/MM 나이/NNG 에/JKB 학사/NNG 모/NNG 도/JX 쓰/VV ...</td>\n",
       "      <td>[2, 4, 5]</td>\n",
       "    </tr>\n",
       "    <tr>\n",
       "      <th>9999</th>\n",
       "      <td>나주시/NNP 는/JX 귀농/NNG ·/SP 귀촌인/NNG 들/XSN 이/JKS 농...</td>\n",
       "      <td>[1, 5, 2]</td>\n",
       "    </tr>\n",
       "  </tbody>\n",
       "</table>\n",
       "<p>10000 rows × 2 columns</p>\n",
       "</div>"
      ],
      "text/plain": [
       "                                                   morp  extractive\n",
       "0     ha/SL 당/XSN 조/NNG 사료/NNG 400/SN 만/NR 원/NNB …/S...  [2, 3, 10]\n",
       "1     8/SN 억/NR 투입/NNG ,/SP 고소/NNG 천사/NNG 벽화/NNG ·/S...  [2, 4, 11]\n",
       "2     전남드래곤즈/NNP 해/NNG 맞이/NNG 다짐/NNG …/SE 선수/NNG 영입/...   [3, 5, 7]\n",
       "3     11/SN ~/SO 24/SN 일/NNB ,/SP 매실/NNG ·/SP 감/NNG ...   [2, 3, 4]\n",
       "4     홍콩/NNP 크루즈선사/NNP ‘/SS 아쿠아리우스/NNP ’/SS 4/SN ,/S...   [3, 7, 4]\n",
       "...                                                 ...         ...\n",
       "9995  실/XPN 거래/NNG 공시/NNG 가/XSN 9/SN 억/NR 원/NNB 조정/N...  [1, 2, 10]\n",
       "9996  3/SN 분기/NNG 전년비/NNG 559/SN %/SW ↓/SW ./SF 올해/N...  [3, 4, 19]\n",
       "9997  매매/NNG 계약/NNG 신고/NNG 뒤/NNG ‘/SS 변경/NNG ·/SP 해지...   [1, 8, 5]\n",
       "9998  “/SS 이/MM 나이/NNG 에/JKB 학사/NNG 모/NNG 도/JX 쓰/VV ...   [2, 4, 5]\n",
       "9999  나주시/NNP 는/JX 귀농/NNG ·/SP 귀촌인/NNG 들/XSN 이/JKS 농...   [1, 5, 2]\n",
       "\n",
       "[10000 rows x 2 columns]"
      ]
     },
     "execution_count": 19,
     "metadata": {},
     "output_type": "execute_result"
    }
   ],
   "source": [
    "news_df"
   ]
  },
  {
   "cell_type": "code",
   "execution_count": 20,
   "metadata": {},
   "outputs": [],
   "source": [
    "news_df.to_csv('news_morp_ext.csv')"
   ]
  },
  {
   "cell_type": "code",
   "execution_count": 23,
   "metadata": {},
   "outputs": [],
   "source": [
    "cnt = 0\n",
    "for each in morp:\n",
    "    for t in each.split(' ./SF '):\n",
    "        if t == \"\":\n",
    "            cnt +=1"
   ]
  },
  {
   "cell_type": "code",
   "execution_count": 24,
   "metadata": {},
   "outputs": [
    {
     "data": {
      "text/plain": [
       "10000"
      ]
     },
     "execution_count": 24,
     "metadata": {},
     "output_type": "execute_result"
    }
   ],
   "source": [
    "cnt"
   ]
  },
  {
   "cell_type": "code",
   "execution_count": 25,
   "metadata": {},
   "outputs": [
    {
     "data": {
      "text/plain": [
       "'ha/SL 당/XSN 조/NNG 사료/NNG 400/SN 만/NR 원/NNB …/SE 작물/NNG 별/XSN 차등/NNG 지원/NNG'"
      ]
     },
     "execution_count": 25,
     "metadata": {},
     "output_type": "execute_result"
    }
   ],
   "source": [
    "news_df.iloc[0][0].split(' ./SF ')[0]"
   ]
  },
  {
   "cell_type": "code",
   "execution_count": 26,
   "metadata": {},
   "outputs": [],
   "source": [
    "import ast"
   ]
  },
  {
   "cell_type": "code",
   "execution_count": 40,
   "metadata": {},
   "outputs": [
    {
     "data": {
      "text/plain": [
       "[1, 2, 3]"
      ]
     },
     "execution_count": 40,
     "metadata": {},
     "output_type": "execute_result"
    }
   ],
   "source": [
    "ast.literal_eval('[1, 2, 3]')"
   ]
  },
  {
   "cell_type": "code",
   "execution_count": 31,
   "metadata": {},
   "outputs": [
    {
     "data": {
      "text/plain": [
       "list"
      ]
     },
     "execution_count": 31,
     "metadata": {},
     "output_type": "execute_result"
    }
   ],
   "source": [
    "type(news_df.iloc[0][1])"
   ]
  },
  {
   "cell_type": "code",
   "execution_count": 35,
   "metadata": {},
   "outputs": [],
   "source": [
    "df = pd.read_csv('./news_morp_ext.csv', index_col =0)"
   ]
  },
  {
   "cell_type": "code",
   "execution_count": 44,
   "metadata": {},
   "outputs": [
    {
     "data": {
      "text/plain": [
       "['ha/SL',\n",
       " '당/XSN',\n",
       " '조/NNG',\n",
       " '사료/NNG',\n",
       " '400/SN',\n",
       " '만/NR',\n",
       " '원/NNB',\n",
       " '…/SE',\n",
       " '작물/NNG',\n",
       " '별/XSN',\n",
       " '차등/NNG',\n",
       " '지원/NNG']"
      ]
     },
     "execution_count": 44,
     "metadata": {},
     "output_type": "execute_result"
    }
   ],
   "source": [
    "[ i.split(\" \") for i in df.iloc[0][0].split(' ./SF ')[:-1]][0]"
   ]
  },
  {
   "cell_type": "code",
   "execution_count": 14,
   "metadata": {},
   "outputs": [],
   "source": [
    "# Copyright 2021 Google Inc. All Rights Reserved.\n",
    "#\n",
    "# Licensed under the Apache License, Version 2.0 (the \"License\");\n",
    "# you may not use this file except in compliance with the License.\n",
    "# You may obtain a copy of the License at\n",
    "#\n",
    "#      http://www.apache.org/licenses/LICENSE-2.0\n",
    "#\n",
    "# Unless required by applicable law or agreed to in writing, software\n",
    "# distributed under the License is distributed on an \"AS IS\" BASIS,\n",
    "# WITHOUT WARRANTIES OR CONDITIONS OF ANY KIND, either express or implied.\n",
    "# See the License for the specific language governing permissions and\n",
    "# limitations under the License.\n",
    "\n",
    "\"\"\"Google Cloud Speech-to-Text sample application using gRPC for async\n",
    "batch processing.\n",
    "\"\"\"\n",
    "\n",
    "import os\n",
    "import re\n",
    "from google.cloud import speech\n",
    "os.environ[\"GOOGLE_APPLICATION_CREDENTIALS\"]=\"/Users/hyunn/Downloads/gcp_key.json\"\n",
    "\n",
    "# [START speech_transcribe_async]\n",
    "def transcribe_file(speech_file):\n",
    "    \"\"\"Transcribe the given audio file asynchronously.\"\"\"\n",
    "\n",
    "    client = speech.SpeechClient()\n",
    "\n",
    "    # [START speech_python_migration_async_request]\n",
    "    with open(speech_file, \"rb\") as audio_file:\n",
    "        content = audio_file.read()\n",
    "\n",
    "    \"\"\"\n",
    "     Note that transcription is limited to a 60 seconds audio file.\n",
    "     Use a GCS file for audio longer than 1 minute.\n",
    "    \"\"\"\n",
    "    audio = speech.RecognitionAudio(content=content)\n",
    "\n",
    "    config = speech.RecognitionConfig(\n",
    "        encoding=speech.RecognitionConfig.AudioEncoding.LINEAR16,\n",
    "        sample_rate_hertz=16000,\n",
    "        language_code=\"ko-KR\",\n",
    "    )\n",
    "\n",
    "    # [START speech_python_migration_async_response]\n",
    "\n",
    "    operation = client.long_running_recognize(config=config, audio=audio)\n",
    "    # [END speech_python_migration_async_request]\n",
    "\n",
    "    print(\"Waiting for operation to complete...\")\n",
    "    response = operation.result(timeout=90)\n",
    "\n",
    "    # Each result is for a consecutive portion of the audio. Iterate through\n",
    "    # them to get the transcripts for the entire audio file.\n",
    "    for result in response.results:\n",
    "        # The first alternative is the most likely one for this portion.\n",
    "        print(u\"Transcript: {}\".format(result.alternatives[0].transcript))\n",
    "        print(\"Confidence: {}\".format(result.alternatives[0].confidence))\n",
    "    # [END speech_python_migration_async_response]\n",
    "    return response.results\n",
    "\n",
    "# [END speech_transcribe_async]\n",
    "\n",
    "\n",
    "# def test_transcribe(capsys):\n",
    "#     transcribe_file(os.path.join(RESOURCES, \"audio.raw\"))\n",
    "#     out, err = capsys.readouterr()\n",
    "\n",
    "#     assert re.search(r\"how old is the Brooklyn Bridge\", out, re.DOTALL | re.I)\n",
    "\n",
    "#RESOURCES = os.path.join(os.path.dirname(__file__), \"resources\")"
   ]
  },
  {
   "cell_type": "code",
   "execution_count": 15,
   "metadata": {},
   "outputs": [
    {
     "name": "stdout",
     "output_type": "stream",
     "text": [
      "Waiting for operation to complete...\n",
      "Transcript: 내 마지막으로 짧고 굵게 프로미스나인의 근황을 알려 주는 간식 뉴스 잘 어울린다\n",
      "Confidence: 0.6752629280090332\n"
     ]
    }
   ],
   "source": [
    "ret = transcribe_file(\"./test_2.wav\")"
   ]
  },
  {
   "cell_type": "code",
   "execution_count": 16,
   "metadata": {},
   "outputs": [
    {
     "data": {
      "text/plain": [
       "[alternatives {\n",
       "  transcript: \"\\353\\202\\264 \\353\\247\\210\\354\\247\\200\\353\\247\\211\\354\\234\\274\\353\\241\\234 \\354\\247\\247\\352\\263\\240 \\352\\265\\265\\352\\262\\214 \\355\\224\\204\\353\\241\\234\\353\\257\\270\\354\\212\\244\\353\\202\\230\\354\\235\\270\\354\\235\\230 \\352\\267\\274\\355\\231\\251\\354\\235\\204 \\354\\225\\214\\353\\240\\244 \\354\\243\\274\\353\\212\\224 \\352\\260\\204\\354\\213\\235 \\353\\211\\264\\354\\212\\244 \\354\\236\\230 \\354\\226\\264\\354\\232\\270\\353\\246\\260\\353\\213\\244\"\n",
       "  confidence: 0.6752629280090332\n",
       "}\n",
       "]"
      ]
     },
     "execution_count": 16,
     "metadata": {},
     "output_type": "execute_result"
    }
   ],
   "source": [
    "ret"
   ]
  },
  {
   "cell_type": "code",
   "execution_count": 17,
   "metadata": {},
   "outputs": [
    {
     "ename": "NameError",
     "evalue": "name '__file__' is not defined",
     "output_type": "error",
     "traceback": [
      "\u001b[0;31m---------------------------------------------------------------------------\u001b[0m",
      "\u001b[0;31mNameError\u001b[0m                                 Traceback (most recent call last)",
      "\u001b[0;32m<ipython-input-17-c0ae23a43308>\u001b[0m in \u001b[0;36m<module>\u001b[0;34m\u001b[0m\n\u001b[0;32m----> 1\u001b[0;31m \u001b[0mprint\u001b[0m\u001b[0;34m(\u001b[0m\u001b[0m__file__\u001b[0m\u001b[0;34m)\u001b[0m\u001b[0;34m\u001b[0m\u001b[0;34m\u001b[0m\u001b[0m\n\u001b[0m",
      "\u001b[0;31mNameError\u001b[0m: name '__file__' is not defined"
     ]
    }
   ],
   "source": [
    "print(__file__)"
   ]
  },
  {
   "cell_type": "code",
   "execution_count": null,
   "metadata": {},
   "outputs": [],
   "source": []
  }
 ],
 "metadata": {
  "interpreter": {
   "hash": "6c817662940d8689b763a83cc5e294c4f32001062a1563fe8f0cedabde224745"
  },
  "kernelspec": {
   "display_name": "Python 3.8.8 64-bit ('base': conda)",
   "language": "python",
   "name": "python3"
  },
  "language_info": {
   "codemirror_mode": {
    "name": "ipython",
    "version": 3
   },
   "file_extension": ".py",
   "mimetype": "text/x-python",
   "name": "python",
   "nbconvert_exporter": "python",
   "pygments_lexer": "ipython3",
   "version": "3.8.8"
  },
  "orig_nbformat": 4
 },
 "nbformat": 4,
 "nbformat_minor": 2
}
