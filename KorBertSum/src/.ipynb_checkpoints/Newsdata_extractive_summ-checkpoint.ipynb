{
 "cells": [
  {
   "cell_type": "code",
   "execution_count": null,
   "metadata": {
    "id": "eiAFuT__jGhU"
   },
   "outputs": [],
   "source": [
    "from google.colab import drive\n",
    "drive.mount('/content/gdrive')"
   ]
  },
  {
   "cell_type": "code",
   "execution_count": null,
   "metadata": {
    "id": "ExYbDJvhjNco"
   },
   "outputs": [],
   "source": [
    "# data에 저장된 etri-bert 모델 가져와서 압축해제\n",
    "!cp \"/content/gdrive/My Drive/data/1_bert_download_001_bert_morp_pytorch.zip\" \"1_bert_download_001_bert_morp_pytorch.zip\"\n",
    "!unzip \"1_bert_download_001_bert_morp_pytorch.zip\""
   ]
  },
  {
   "cell_type": "code",
   "execution_count": null,
   "metadata": {
    "id": "KzpMYODXjPI_"
   },
   "outputs": [],
   "source": [
    "!cp \"/content/gdrive/My Drive/data/bert_data.zip\" \"bert_data.zip\"\n",
    "!unzip \"bert_data.zip\""
   ]
  },
  {
   "cell_type": "markdown",
   "metadata": {
    "id": "EgJT7EiLqI44"
   },
   "source": [
    "# 1. PYROUGE (ROGUE METRIC PACKAGE)와 의존성 패키지 설치"
   ]
  },
  {
   "cell_type": "code",
   "execution_count": null,
   "metadata": {
    "id": "XLoQtbAOlvzv"
   },
   "outputs": [],
   "source": [
    "# install bheinzerling's pyrouge\n",
    "!git clone https://github.com/bheinzerling/pyrouge\n",
    "%cd pyrouge\n",
    "!python setup.py install\n",
    "# install missing dependency\n",
    "!apt install libxml-parser-perl\n",
    "%cd pyrouge\n",
    "!git clone https://github.com/andersjo/pyrouge.git rouge\n",
    "!pyrouge_set_rouge_path '/content/pyrouge/pyrouge/rouge/tools/ROUGE-1.5.5'\n",
    "%cd /content/pyrouge/pyrouge/rouge/tools/ROUGE-1.5.5/data\n",
    "!mv WordNet-2.0.exc.db WordNet-2.0.exc.db.orig\n",
    "!perl WordNet-2.0-Exceptions/buildExeptionDB.pl ./WordNet-2.0-Exceptions ./smart_common_words.txt ./WordNet-2.0.exc.db"
   ]
  },
  {
   "cell_type": "markdown",
   "metadata": {
    "id": "1TVcRUkmqRo9"
   },
   "source": [
    "pyrouge 동작 Test (마지막 출력에 ok가 나오면 성공!)"
   ]
  },
  {
   "cell_type": "code",
   "execution_count": null,
   "metadata": {
    "id": "cUrb0lCFlxJq"
   },
   "outputs": [],
   "source": [
    "!python -m pyrouge.test"
   ]
  },
  {
   "cell_type": "code",
   "execution_count": null,
   "metadata": {
    "id": "i6sykFIjlynh"
   },
   "outputs": [],
   "source": [
    "# 기타 패키지 설치\n",
    "!pip install pytorch_pretrained_bert\n",
    "!pip install tensorboardX"
   ]
  },
  {
   "cell_type": "markdown",
   "metadata": {
    "id": "BBrq-YAOqgmZ"
   },
   "source": [
    "# 2. GOOGLE DRIVE MOUNT"
   ]
  },
  {
   "cell_type": "code",
   "execution_count": null,
   "metadata": {
    "id": "fOzvp34IZQ13"
   },
   "outputs": [],
   "source": [
    "# Bertsum directory chdir\n",
    "import os\n",
    "os.chdir('/content/gdrive/My Drive/packages/BertSum/src')"
   ]
  },
  {
   "cell_type": "markdown",
   "metadata": {
    "id": "gwxwDqcMsIaA"
   },
   "source": [
    "# Train"
   ]
  },
  {
   "cell_type": "markdown",
   "metadata": {
    "id": "ryPPxFlnq2yw"
   },
   "source": [
    "**Arguments**\n",
    "\n",
    "-mode train (train, validate, test) # 학습 모드 설정\n",
    "\n",
    "-encoder classifier (classifier, transformer, RNN) # 학습 방법 설정\n",
    "\n",
    "-dropout 0.1 # dropout rate\n",
    "\n",
    "-bert_data_path ../bert_data/korean # bert.pt파일 저장되어있는 경로(pt파일 앞의 단어까지 경로에 쓸 것)\n",
    "\n",
    "-model_path ../models/bert_classifier_sample # train의 경우 학습된 모델 저장\n",
    "\n",
    "-visible_gpus 0 # -1일 경우 cpu, 0이상일 경우 cuda 사용"
   ]
  },
  {
   "cell_type": "code",
   "execution_count": null,
   "metadata": {
    "id": "za8H-D8aZrP0"
   },
   "outputs": [],
   "source": [
    "!python train.py -mode train -encoder classifier -dropout 0.1 -bert_data_path /content/bert_data/korean -model_path ../models/bert_classifier -lr 2e-3 -visible_gpus 0 -gpu_ranks 0 -world_size 1 -report_every 50 -save_checkpoint_steps 1000 -batch_size 1000 -decay_method noam -train_steps 1000 -accum_count 1 -log_file ../logs/bert_classifier -use_interval true -warmup_steps 8000 -bert_model /content/001_bert_morp_pytorch -bert_config_path /content/001_bert_morp_pytorch/bert_config.json -temp_dir ."
   ]
  },
  {
   "cell_type": "code",
   "execution_count": null,
   "metadata": {
    "id": "uW5ogvPn-FvO"
   },
   "outputs": [],
   "source": [
    "!python train.py -mode validate -bert_data_path /content/bert_data/korean -model_path ../models/bert_classifier  -visible_gpus 0  -gpu_ranks 0 -batch_size 1000  -log_file ../logs/bert_classifier  -result_path ../results/korean -bert_model /content/001_bert_morp_pytorch"
   ]
  },
  {
   "cell_type": "code",
   "execution_count": null,
   "metadata": {
    "id": "WoaKzondr8jd"
   },
   "outputs": [],
   "source": [
    "!python train.py -mode test -bert_data_path /content/bert_data/korean -model_path ../models/bert_classifier  -visible_gpus 0  -gpu_ranks 0 -batch_size 1000  -log_file ../logs/bert_classifier  -result_path ../results/korean -bert_model /content/001_bert_morp_pytorch -test_from ../models/bert_classifier/model_step_1000.pt"
   ]
  },
  {
   "cell_type": "markdown",
   "metadata": {
    "id": "rIZruOeCsL_5"
   },
   "source": [
    "# Test"
   ]
  },
  {
   "cell_type": "code",
   "execution_count": null,
   "metadata": {
    "id": "Fr5Ht2L0pV5J"
   },
   "outputs": [],
   "source": [
    "with open('/content/gdrive/My Drive/packages/BertSum/results/korean_step1000.gold','r') as f:\n",
    "    gold = f.readlines()"
   ]
  },
  {
   "cell_type": "code",
   "execution_count": null,
   "metadata": {
    "id": "0ff8k_UYpupz"
   },
   "outputs": [],
   "source": [
    "with open('/content/gdrive/My Drive/packages/BertSum/results/korean_step1000.candidate','r') as f:\n",
    "    candidate = f.readlines()"
   ]
  },
  {
   "cell_type": "code",
   "execution_count": null,
   "metadata": {
    "id": "ieg_5YynplZd"
   },
   "outputs": [],
   "source": [
    "# 라벨 데이터\n",
    "gold[3]"
   ]
  },
  {
   "cell_type": "code",
   "execution_count": null,
   "metadata": {
    "id": "V4JZJNYXpz2X"
   },
   "outputs": [],
   "source": [
    "# 예측 데이터\n",
    "candidate[3]"
   ]
  },
  {
   "cell_type": "code",
   "execution_count": null,
   "metadata": {
    "id": "834tSN8Mum1L"
   },
   "outputs": [],
   "source": []
  }
 ],
 "metadata": {
  "accelerator": "GPU",
  "colab": {
   "authorship_tag": "ABX9TyOHi3fjXHKga4urnmSF7c68",
   "collapsed_sections": [],
   "machine_shape": "hm",
   "name": "Newsdata_extractive_summ.ipynb",
   "private_outputs": true,
   "provenance": []
  },
  "kernelspec": {
   "display_name": "Python 3",
   "language": "python",
   "name": "python3"
  },
  "language_info": {
   "codemirror_mode": {
    "name": "ipython",
    "version": 3
   },
   "file_extension": ".py",
   "mimetype": "text/x-python",
   "name": "python",
   "nbconvert_exporter": "python",
   "pygments_lexer": "ipython3",
   "version": "3.6.10"
  }
 },
 "nbformat": 4,
 "nbformat_minor": 1
}
